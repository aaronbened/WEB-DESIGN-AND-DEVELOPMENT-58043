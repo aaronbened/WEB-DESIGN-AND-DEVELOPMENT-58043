{
  "nbformat": 4,
  "nbformat_minor": 0,
  "metadata": {
    "colab": {
      "name": "BenedictAaronUmiten.ipynb",
      "provenance": [],
      "authorship_tag": "ABX9TyNSduoUkH72t9toHhCe94p0",
      "include_colab_link": true
    },
    "kernelspec": {
      "name": "python3",
      "display_name": "Python 3"
    },
    "language_info": {
      "name": "python"
    }
  },
  "cells": [
    {
      "cell_type": "markdown",
      "metadata": {
        "id": "view-in-github",
        "colab_type": "text"
      },
      "source": [
        "<a href=\"https://colab.research.google.com/github/aaronbened/WEB-DESIGN-AND-DEVELOPMENT-58043/blob/main/BenedictAaronUmiten.ipynb\" target=\"_parent\"><img src=\"https://colab.research.google.com/assets/colab-badge.svg\" alt=\"Open In Colab\"/></a>"
      ]
    },
    {
      "cell_type": "code",
      "execution_count": 36,
      "metadata": {
        "colab": {
          "base_uri": "https://localhost:8080/"
        },
        "id": "cqNn7TEzXB7S",
        "outputId": "786044b8-6d0b-4d31-fc24-f18db4a05ecc"
      },
      "outputs": [
        {
          "output_type": "stream",
          "name": "stdout",
          "text": [
            "desire radius 4\n",
            "50.24\n"
          ]
        }
      ],
      "source": [
        "def ACircle(r):\n",
        "  pi = 3.14\n",
        "  area = pi * (r**2)\n",
        "  print(area)\n",
        "radius =  int(input(\"desire radius \"))\n",
        "\n",
        "ACircle(radius)"
      ]
    }
  ]
}