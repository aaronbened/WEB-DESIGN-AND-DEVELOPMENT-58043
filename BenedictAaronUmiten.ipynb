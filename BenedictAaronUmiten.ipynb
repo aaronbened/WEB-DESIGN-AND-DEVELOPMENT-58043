{
  "nbformat": 4,
  "nbformat_minor": 0,
  "metadata": {
    "colab": {
      "name": "BenedictAaronUmiten.ipynb",
      "provenance": [],
      "authorship_tag": "ABX9TyP8V4LTQD4NsIaDjQWl/Pw4",
      "include_colab_link": true
    },
    "kernelspec": {
      "name": "python3",
      "display_name": "Python 3"
    },
    "language_info": {
      "name": "python"
    }
  },
  "cells": [
    {
      "cell_type": "markdown",
      "metadata": {
        "id": "view-in-github",
        "colab_type": "text"
      },
      "source": [
        "<a href=\"https://colab.research.google.com/github/aaronbened/WEB-DESIGN-AND-DEVELOPMENT-58043/blob/main/BenedictAaronUmiten.ipynb\" target=\"_parent\"><img src=\"https://colab.research.google.com/assets/colab-badge.svg\" alt=\"Open In Colab\"/></a>"
      ]
    },
    {
      "cell_type": "code",
      "execution_count": 38,
      "metadata": {
        "colab": {
          "base_uri": "https://localhost:8080/"
        },
        "id": "cqNn7TEzXB7S",
        "outputId": "2a4a456d-c0b9-4ddd-bcf0-6d9a60eb8e0f"
      },
      "outputs": [
        {
          "output_type": "stream",
          "name": "stdout",
          "text": [
            "desire radius 4\n",
            "the area of circle is  50.24\n"
          ]
        }
      ],
      "source": [
        "def ACircle(r):\n",
        "  pi = 3.14\n",
        "  area = pi * (r**2)\n",
        "  print(\"the area of circle is \" , area)\n",
        "radius =  int(input(\"desire radius \"))\n",
        "\n",
        "ACircle(radius)"
      ]
    }
  ]
}